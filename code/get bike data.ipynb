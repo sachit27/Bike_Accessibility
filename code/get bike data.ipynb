{
 "cells": [
  {
   "cell_type": "code",
   "execution_count": 4,
   "metadata": {},
   "outputs": [],
   "source": [
    "import pybikes\n",
    "import pandas as pd"
   ]
  },
  {
   "cell_type": "code",
   "execution_count": 5,
   "metadata": {},
   "outputs": [
    {
     "ename": "AssertionError",
     "evalue": "Not found: uid 354, domain 'eu', url https://maps.nextbike.net/maps/nextbike-live.xml?domains=eu",
     "output_type": "error",
     "traceback": [
      "\u001b[0;31m---------------------------------------------------------------------------\u001b[0m",
      "\u001b[0;31mAssertionError\u001b[0m                            Traceback (most recent call last)",
      "Cell \u001b[0;32mIn[5], line 12\u001b[0m\n\u001b[1;32m      9\u001b[0m     \u001b[38;5;28;01mreturn\u001b[39;00m data\n\u001b[1;32m     11\u001b[0m \u001b[38;5;66;03m# Get data for each city\u001b[39;00m\n\u001b[0;32m---> 12\u001b[0m m_data \u001b[38;5;241m=\u001b[39m \u001b[43mget_bike_station_data\u001b[49m\u001b[43m(\u001b[49m\u001b[38;5;124;43m'\u001b[39;49m\u001b[38;5;124;43mco-bikes-exeter\u001b[39;49m\u001b[38;5;124;43m'\u001b[39;49m\u001b[43m)\u001b[49m\n",
      "Cell \u001b[0;32mIn[5], line 4\u001b[0m, in \u001b[0;36mget_bike_station_data\u001b[0;34m(system_tag)\u001b[0m\n\u001b[1;32m      2\u001b[0m \u001b[38;5;28;01mdef\u001b[39;00m \u001b[38;5;21mget_bike_station_data\u001b[39m(system_tag):\n\u001b[1;32m      3\u001b[0m     bike_system \u001b[38;5;241m=\u001b[39m pybikes\u001b[38;5;241m.\u001b[39mget(system_tag)\n\u001b[0;32m----> 4\u001b[0m     \u001b[43mbike_system\u001b[49m\u001b[38;5;241;43m.\u001b[39;49m\u001b[43mupdate\u001b[49m\u001b[43m(\u001b[49m\u001b[43m)\u001b[49m\n\u001b[1;32m      5\u001b[0m     stations \u001b[38;5;241m=\u001b[39m bike_system\u001b[38;5;241m.\u001b[39mstations\n\u001b[1;32m      6\u001b[0m     data \u001b[38;5;241m=\u001b[39m []\n",
      "File \u001b[0;32m~/.local/lib/python3.11/site-packages/pybikes/nextbike.py:49\u001b[0m, in \u001b[0;36mNextbike.update\u001b[0;34m(self, scraper)\u001b[0m\n\u001b[1;32m     45\u001b[0m places \u001b[38;5;241m=\u001b[39m domain_xml\u001b[38;5;241m.\u001b[39mxpath(\n\u001b[1;32m     46\u001b[0m     \u001b[38;5;124m'\u001b[39m\u001b[38;5;124m/markers/country/city[@uid=\u001b[39m\u001b[38;5;124m\"\u001b[39m\u001b[38;5;132;01m{uid}\u001b[39;00m\u001b[38;5;124m\"\u001b[39m\u001b[38;5;124m]/place\u001b[39m\u001b[38;5;124m'\u001b[39m\u001b[38;5;241m.\u001b[39mformat(uid\u001b[38;5;241m=\u001b[39m\u001b[38;5;28mself\u001b[39m\u001b[38;5;241m.\u001b[39muid)\n\u001b[1;32m     47\u001b[0m )\n\u001b[1;32m     48\u001b[0m \u001b[38;5;66;03m# We want to raise an error if a uid is invalid, right?\u001b[39;00m\n\u001b[0;32m---> 49\u001b[0m \u001b[38;5;28;01massert\u001b[39;00m places, \u001b[38;5;124m\"\u001b[39m\u001b[38;5;124mNot found: uid \u001b[39m\u001b[38;5;132;01m{!r}\u001b[39;00m\u001b[38;5;124m, domain \u001b[39m\u001b[38;5;132;01m{!r}\u001b[39;00m\u001b[38;5;124m, url \u001b[39m\u001b[38;5;132;01m{}\u001b[39;00m\u001b[38;5;124m\"\u001b[39m\u001b[38;5;241m.\u001b[39mformat(\n\u001b[1;32m     50\u001b[0m     \u001b[38;5;28mself\u001b[39m\u001b[38;5;241m.\u001b[39muid, \u001b[38;5;28mself\u001b[39m\u001b[38;5;241m.\u001b[39mdomain, \u001b[38;5;28mself\u001b[39m\u001b[38;5;241m.\u001b[39murl\n\u001b[1;32m     51\u001b[0m )\n\u001b[1;32m     52\u001b[0m \u001b[38;5;28;01mif\u001b[39;00m \u001b[38;5;28mself\u001b[39m\u001b[38;5;241m.\u001b[39mbbox:\n\u001b[1;32m     53\u001b[0m     \u001b[38;5;28;01mdef\u001b[39;00m \u001b[38;5;21mgetter\u001b[39m(place):\n",
      "\u001b[0;31mAssertionError\u001b[0m: Not found: uid 354, domain 'eu', url https://maps.nextbike.net/maps/nextbike-live.xml?domains=eu"
     ]
    }
   ],
   "source": [
    "# Define a function to get bike station data\n",
    "def get_bike_station_data(system_tag):\n",
    "    bike_system = pybikes.get(system_tag)\n",
    "    bike_system.update()\n",
    "    stations = bike_system.stations\n",
    "    data = []\n",
    "    for station in stations:\n",
    "        data.append([station.name, station.latitude, station.longitude])\n",
    "    return data\n",
    "\n",
    "# Get data for each city\n",
    "m_data = get_bike_station_data('co-bikes-exeter')\n",
    "\n"
   ]
  },
  {
   "cell_type": "code",
   "execution_count": 3,
   "metadata": {},
   "outputs": [],
   "source": [
    "# Define a function to save data to a CSV file\n",
    "def save_to_csv(data, filename):\n",
    "    df = pd.DataFrame(data, columns=['Station', 'lat', 'lon'])\n",
    "    df.to_csv(filename, index=False)\n",
    "\n",
    "# Save the data\n",
    "save_to_csv(m_data, 'exeter.csv')\n",
    "\n",
    "\n",
    "\n"
   ]
  },
  {
   "cell_type": "code",
   "execution_count": null,
   "metadata": {},
   "outputs": [],
   "source": []
  }
 ],
 "metadata": {
  "kernelspec": {
   "display_name": "Python 3 (ipykernel)",
   "language": "python",
   "name": "python3"
  },
  "language_info": {
   "codemirror_mode": {
    "name": "ipython",
    "version": 3
   },
   "file_extension": ".py",
   "mimetype": "text/x-python",
   "name": "python",
   "nbconvert_exporter": "python",
   "pygments_lexer": "ipython3",
   "version": "3.11.6"
  }
 },
 "nbformat": 4,
 "nbformat_minor": 4
}
