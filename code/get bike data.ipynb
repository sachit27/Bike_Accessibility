{
 "cells": [
  {
   "cell_type": "code",
   "execution_count": null,
   "metadata": {},
   "outputs": [],
   "source": [
    "import pybikes\n",
    "import pandas as pd"
   ]
  },
  {
   "cell_type": "code",
   "execution_count": null,
   "metadata": {},
   "outputs": [],
   "source": [
    "# Define a function to get bike station data\n",
    "def get_bike_station_data(system_tag):\n",
    "    bike_system = pybikes.get(system_tag)\n",
    "    bike_system.update()\n",
    "    stations = bike_system.stations\n",
    "    data = []\n",
    "    for station in stations:\n",
    "        data.append([station.name, station.latitude, station.longitude])\n",
    "    return data\n",
    "\n",
    "# Get data for each city. Mention the name of bike operator\n",
    "m_data = get_bike_station_data('name')\n",
    "\n"
   ]
  },
  {
   "cell_type": "code",
   "execution_count": null,
   "metadata": {},
   "outputs": [],
   "source": [
    "# Define a function to save data to a CSV file\n",
    "def save_to_csv(data, filename):\n",
    "    df = pd.DataFrame(data, columns=['Station', 'lat', 'lon'])\n",
    "    df.to_csv(filename, index=False)\n",
    "\n",
    "# Save the data\n",
    "save_to_csv(m_data, 'city.csv')\n",
    "\n",
    "\n",
    "\n"
   ]
  },
  {
   "cell_type": "code",
   "execution_count": null,
   "metadata": {},
   "outputs": [],
   "source": []
  }
 ],
 "metadata": {
  "kernelspec": {
   "display_name": "Python 3 (ipykernel)",
   "language": "python",
   "name": "python3"
  },
  "language_info": {
   "codemirror_mode": {
    "name": "ipython",
    "version": 3
   },
   "file_extension": ".py",
   "mimetype": "text/x-python",
   "name": "python",
   "nbconvert_exporter": "python",
   "pygments_lexer": "ipython3",
   "version": "3.11.6"
  }
 },
 "nbformat": 4,
 "nbformat_minor": 4
}
